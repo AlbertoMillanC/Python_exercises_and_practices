{
 "cells": [
  {
   "cell_type": "code",
   "execution_count": 2,
   "id": "064b3611-cede-472a-a85c-aecc067b12c2",
   "metadata": {},
   "outputs": [
    {
     "name": "stdout",
     "output_type": "stream",
     "text": [
      "      0        1      2      3     4      5      6       7           8   \\\n",
      "P     23       36     15     18    56     45     32      10          43   \n",
      "M  Enero  Febrero  Marzo  Abril  Mayo  Junio  Julio  Agosto  Septiembre   \n",
      "\n",
      "        9          10         11  \n",
      "P       55         41         63  \n",
      "M  Octubre  Noviembre  Diciembre  \n",
      "la produccion promedio de la empresa fue 36.416666666666664\n",
      "     P           M\n",
      "0   23       Enero\n",
      "1   36     Febrero\n",
      "2   15       Marzo\n",
      "3   18       Abril\n",
      "4   56        Mayo\n",
      "5   45       Junio\n",
      "6   32       Julio\n",
      "7   10      Agosto\n",
      "8   43  Septiembre\n",
      "9   55     Octubre\n",
      "10  41   Noviembre\n",
      "11  63   Diciembre\n",
      "la produccion mayor fue 63 y se dio en el mes Diciembre\n",
      "la produccion del semestre 1 fue 193\n",
      "la produccion del semestre 2 fue 244\n",
      "promedio meses impares P    35.714286\n",
      "dtype: float64\n"
     ]
    },
    {
     "data": {
      "text/plain": [
       "[<matplotlib.lines.Line2D at 0x16db20dcb50>]"
      ]
     },
     "execution_count": 2,
     "metadata": {},
     "output_type": "execute_result"
    },
    {
     "data": {
      "image/png": "[encoded data removed]",
      "text/plain": [
       "<Figure size 432x288 with 1 Axes>"
      ]
     },
     "metadata": {
      "needs_background": "light"
     },
     "output_type": "display_data"
    }
   ],
   "source": [
    "\n",
    "import numpy as np\n",
    "import pandas as pd\n",
    "import matplotlib.pyplot as plt\n",
    "\n",
    "\n",
    "datos = [[23, 36, 15, 18, 56, 45, 32, 10, 43, 55, 41, 63],[\"Enero\", \"Febrero\", \"Marzo\",\"Abril\", \"Mayo\", \"Junio\", \"Julio\", \"Agosto\", \"Septiembre\", \"Octubre\", \"Noviembre\", \"Diciembre\"]]\n",
    "#determinamos las produccion promedio de la empresa\n",
    "\n",
    "df= pd.DataFrame(datos,index=list(\"PM\"))\n",
    "produccion=df.iloc [0,:]\n",
    "print(df)\n",
    "#calculamos el promedio de la produccion\n",
    "promedio=np.mean(produccion)\n",
    "print(\"la produccion promedio de la empresa fue\", promedio)\n",
    "\n",
    "#encontramos el mes de mayor produccion. \n",
    "dfT=df.transpose()\n",
    "print(dfT)\n",
    "maxi=dfT.max()\n",
    "\n",
    "np.where(dfT ==maxi)\n",
    "posicion_mayor=np.where(dfT ==maxi)\n",
    "P=(posicion_mayor[0][1])\n",
    "\n",
    "print(\"la produccion mayor fue\",df[P][0], \"y se dio en el mes\",df[P][1])\n",
    "\n",
    "#semestre de menor produccion. \n",
    "semestre1=produccion.head(6).sum()\n",
    "print(\"la produccion del semestre 1 fue\", semestre1)\n",
    "semestre2=produccion.tail(6).sum()\n",
    "print(\"la produccion del semestre 2 fue\", semestre2)\n",
    "\n",
    "\n",
    "# meses donde se produjeron mas de 50 aires\n",
    "dfT[dfT[\"P\"]>50]\n",
    "\n",
    "#produccion meses impares\n",
    "promedioI=dfT.iloc[[0,1,3,5,7,9,11],[0]].mean()\n",
    "print(\"promedio meses impares\",promedioI)\n",
    "\n",
    "#meses donde la prpduccion supero el promedio\n",
    "\n",
    "promedioP=dfT[\"P\"].mean()\n",
    "dfT[dfT[\"P\"]>promedioP]\n",
    "\n",
    "#grafico\n",
    "plt.plot(dfT[\"P\"],dfT[\"M\"])"
   ]
  },
  {
   "cell_type": "code",
   "execution_count": null,
   "id": "a905bcae-42b9-42a1-9a8e-1e72321251ea",
   "metadata": {},
   "outputs": [],
   "source": []
  }
 ],
 "metadata": {
  "kernelspec": {
   "display_name": "Python 3 (ipykernel)",
   "language": "python",
   "name": "python3"
  },
  "language_info": {
   "codemirror_mode": {
    "name": "ipython",
    "version": 3
   },
   "file_extension": ".py",
   "mimetype": "text/x-python",
   "name": "python",
   "nbconvert_exporter": "python",
   "pygments_lexer": "ipython3",
   "version": "3.9.12"
  }
 },
 "nbformat": 4,
 "nbformat_minor": 5
}
