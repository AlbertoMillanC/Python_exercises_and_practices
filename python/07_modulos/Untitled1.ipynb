{
 "cells": [
  {
   "cell_type": "code",
   "execution_count": null,
   "id": "a46a9f65-f605-44a4-aef1-899864b0c17e",
   "metadata": {},
   "outputs": [],
   "source": [
    "from rembg import remove\n",
    "from PIL import Image\n",
    "\n",
    "input_path = 'cl.jpg'\n",
    "output_path = 'output.png'\n",
    "\n",
    "input = Image.open(input_path)\n",
    "output = remove(input)\n",
    "output.save(output_path)\n"
   ]
  },
  {
   "cell_type": "code",
   "execution_count": null,
   "id": "8c8338a3-d49e-489d-bbff-553c34ccae16",
   "metadata": {},
   "outputs": [],
   "source": [
    "pip install rembg"
   ]
  },
  {
   "cell_type": "code",
   "execution_count": null,
   "id": "801380de-2986-4dd5-8a5c-82af3cafe68f",
   "metadata": {},
   "outputs": [],
   "source": []
  },
  {
   "cell_type": "code",
   "execution_count": null,
   "id": "9a2837be-0f24-44ff-93c2-89f5f6d034fe",
   "metadata": {},
   "outputs": [],
   "source": []
  },
  {
   "cell_type": "code",
   "execution_count": null,
   "id": "122029bd-007f-4ce5-abd5-f49747cf9bcd",
   "metadata": {},
   "outputs": [],
   "source": []
  },
  {
   "cell_type": "code",
   "execution_count": null,
   "id": "5e6a0b48-830f-4bbd-ab80-b58be787d84b",
   "metadata": {},
   "outputs": [],
   "source": []
  }
 ],
 "metadata": {
  "kernelspec": {
   "display_name": "Python 3 (ipykernel)",
   "language": "python",
   "name": "python3"
  },
  "language_info": {
   "codemirror_mode": {
    "name": "ipython",
    "version": 3
   },
   "file_extension": ".py",
   "mimetype": "text/x-python",
   "name": "python",
   "nbconvert_exporter": "python",
   "pygments_lexer": "ipython3",
   "version": "3.9.12"
  }
 },
 "nbformat": 4,
 "nbformat_minor": 5
}
