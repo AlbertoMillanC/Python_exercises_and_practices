{
 "cells": [
  {
   "cell_type": "code",
   "execution_count": 2,
   "id": "a46a9f65-f605-44a4-aef1-899864b0c17e",
   "metadata": {},
   "outputs": [
    {
     "name": "stdout",
     "output_type": "stream",
     "text": [
      "{'cod': 401,\n",
      " 'message': 'Invalid API key. Please see '\n",
      "            'https://openweathermap.org/faq#error401 for more info.'}\n"
     ]
    },
    {
     "ename": "ModuleNotFoundError",
     "evalue": "No module named 'pyowm'",
     "output_type": "error",
     "traceback": [
      "\u001b[1;31m---------------------------------------------------------------------------\u001b[0m",
      "\u001b[1;31mModuleNotFoundError\u001b[0m                       Traceback (most recent call last)",
      "Input \u001b[1;32mIn [2]\u001b[0m, in \u001b[0;36m<cell line: 28>\u001b[1;34m()\u001b[0m\n\u001b[0;32m      5\u001b[0m pprint(r\u001b[38;5;241m.\u001b[39mjson())\n\u001b[0;32m      6\u001b[0m {\u001b[38;5;124mu\u001b[39m\u001b[38;5;124m'\u001b[39m\u001b[38;5;124mbase\u001b[39m\u001b[38;5;124m'\u001b[39m: \u001b[38;5;124mu\u001b[39m\u001b[38;5;124m'\u001b[39m\u001b[38;5;124mcmc stations\u001b[39m\u001b[38;5;124m'\u001b[39m,\n\u001b[0;32m      7\u001b[0m  \u001b[38;5;124mu\u001b[39m\u001b[38;5;124m'\u001b[39m\u001b[38;5;124mclouds\u001b[39m\u001b[38;5;124m'\u001b[39m: {\u001b[38;5;124mu\u001b[39m\u001b[38;5;124m'\u001b[39m\u001b[38;5;124mall\u001b[39m\u001b[38;5;124m'\u001b[39m: \u001b[38;5;241m68\u001b[39m},\n\u001b[0;32m      8\u001b[0m  \u001b[38;5;124mu\u001b[39m\u001b[38;5;124m'\u001b[39m\u001b[38;5;124mcod\u001b[39m\u001b[38;5;124m'\u001b[39m: \u001b[38;5;241m200\u001b[39m,\n\u001b[1;32m   (...)\u001b[0m\n\u001b[0;32m     24\u001b[0m                \u001b[38;5;124mu\u001b[39m\u001b[38;5;124m'\u001b[39m\u001b[38;5;124mmain\u001b[39m\u001b[38;5;124m'\u001b[39m: \u001b[38;5;124mu\u001b[39m\u001b[38;5;124m'\u001b[39m\u001b[38;5;124mClouds\u001b[39m\u001b[38;5;124m'\u001b[39m}],\n\u001b[0;32m     25\u001b[0m  \u001b[38;5;124mu\u001b[39m\u001b[38;5;124m'\u001b[39m\u001b[38;5;124mwind\u001b[39m\u001b[38;5;124m'\u001b[39m: {\u001b[38;5;124mu\u001b[39m\u001b[38;5;124m'\u001b[39m\u001b[38;5;124mdeg\u001b[39m\u001b[38;5;124m'\u001b[39m: \u001b[38;5;241m158.5\u001b[39m, \u001b[38;5;124mu\u001b[39m\u001b[38;5;124m'\u001b[39m\u001b[38;5;124mspeed\u001b[39m\u001b[38;5;124m'\u001b[39m: \u001b[38;5;241m2.36\u001b[39m}}\n\u001b[1;32m---> 28\u001b[0m \u001b[38;5;28;01mimport\u001b[39;00m \u001b[38;5;21;01mpyowm\u001b[39;00m\n\u001b[0;32m     29\u001b[0m owm \u001b[38;5;241m=\u001b[39m pyowm\u001b[38;5;241m.\u001b[39mOWM()\n\u001b[0;32m     30\u001b[0m observation \u001b[38;5;241m=\u001b[39m owm\u001b[38;5;241m.\u001b[39mweather_at_place(\u001b[38;5;124m'\u001b[39m\u001b[38;5;124mLondon,uk\u001b[39m\u001b[38;5;124m'\u001b[39m)\n",
      "\u001b[1;31mModuleNotFoundError\u001b[0m: No module named 'pyowm'"
     ]
    }
   ],
   "source": [
    "#\"// api weather\"? \n",
    "from pprint import pprint\n",
    "import requests\n",
    "r = requests.get('http://api.openweathermap.org/data/2.5/weather?q=London&APPID={416b1977d8600769ec381d81e1ccabbe}')\n",
    "pprint(r.json())\n",
    "{u'base': u'cmc stations',\n",
    " u'clouds': {u'all': 68},\n",
    " u'cod': 200,\n",
    " u'coord': {u'lat': 51.50853, u'lon': -0.12574},\n",
    " u'dt': 1383907026,\n",
    " u'id': 2643743,\n",
    " u'main': {u'grnd_level': 1007.77,\n",
    "           u'humidity': 97,\n",
    "           u'pressure': 1007.77,\n",
    "           u'sea_level': 1017.97,\n",
    "           u'temp': 282.241,\n",
    "           u'temp_max': 282.241,\n",
    "           u'temp_min': 282.241},\n",
    " u'name': u'London',\n",
    " u'sys': {u'country': u'GB', u'sunrise': 1383894458, u'sunset': 1383927657},\n",
    " u'weather': [{u'description': u'broken clouds',\n",
    "               u'icon': u'04d',\n",
    "               u'id': 803,\n",
    "               u'main': u'Clouds'}],\n",
    " u'wind': {u'deg': 158.5, u'speed': 2.36}}\n",
    "\n",
    "\n",
    "import pyowm\n",
    "owm = pyowm.OWM()\n",
    "observation = owm.weather_at_place('London,uk')\n",
    "w = observation.get_weather()\n",
    "w.get_wind()\n",
    "{u'speed': 3.1, u'deg': 220}\n",
    "w.get_humidity()\n",
    "76\n",
    "\n",
    "\n"
   ]
  },
  {
   "cell_type": "code",
   "execution_count": null,
   "id": "8c8338a3-d49e-489d-bbff-553c34ccae16",
   "metadata": {},
   "outputs": [],
   "source": []
  },
  {
   "cell_type": "code",
   "execution_count": null,
   "id": "801380de-2986-4dd5-8a5c-82af3cafe68f",
   "metadata": {},
   "outputs": [],
   "source": []
  },
  {
   "cell_type": "code",
   "execution_count": null,
   "id": "9a2837be-0f24-44ff-93c2-89f5f6d034fe",
   "metadata": {},
   "outputs": [],
   "source": []
  },
  {
   "cell_type": "code",
   "execution_count": null,
   "id": "122029bd-007f-4ce5-abd5-f49747cf9bcd",
   "metadata": {},
   "outputs": [],
   "source": []
  },
  {
   "cell_type": "code",
   "execution_count": null,
   "id": "5e6a0b48-830f-4bbd-ab80-b58be787d84b",
   "metadata": {},
   "outputs": [],
   "source": []
  },
  {
   "cell_type": "code",
   "execution_count": null,
   "id": "985d958c-b348-48eb-9997-7b610f4f54b1",
   "metadata": {},
   "outputs": [],
   "source": []
  },
  {
   "cell_type": "code",
   "execution_count": null,
   "id": "d4b35c8f-21d0-4bcb-bc0a-b86bf2300778",
   "metadata": {},
   "outputs": [],
   "source": []
  },
  {
   "cell_type": "code",
   "execution_count": null,
   "id": "21d12d68-4100-4064-ac18-52f36135a0ca",
   "metadata": {},
   "outputs": [],
   "source": []
  },
  {
   "cell_type": "code",
   "execution_count": null,
   "id": "4260a611-689c-4275-822b-e04b3304d72a",
   "metadata": {},
   "outputs": [],
   "source": []
  }
 ],
 "metadata": {
  "kernelspec": {
   "display_name": "Python 3 (ipykernel)",
   "language": "python",
   "name": "python3"
  },
  "language_info": {
   "codemirror_mode": {
    "name": "ipython",
    "version": 3
   },
   "file_extension": ".py",
   "mimetype": "text/x-python",
   "name": "python",
   "nbconvert_exporter": "python",
   "pygments_lexer": "ipython3",
   "version": "3.9.12"
  }
 },
 "nbformat": 4,
 "nbformat_minor": 5
}
